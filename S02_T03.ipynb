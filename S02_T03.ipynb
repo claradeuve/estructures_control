{
 "cells": [
  {
   "cell_type": "markdown",
   "id": "0a09e9aa",
   "metadata": {},
   "source": [
    "## Exercici 1\n",
    "L'exercici consisteix a crear un programa que et classifiqui una variable numèrica en funció de l’escala Suspès/Aprovat/Notable/Excel·lent."
   ]
  },
  {
   "cell_type": "code",
   "execution_count": 76,
   "id": "e94b4320",
   "metadata": {},
   "outputs": [
    {
     "data": {
      "text/plain": [
       "'Excel·lent'"
      ]
     },
     "execution_count": 76,
     "metadata": {},
     "output_type": "execute_result"
    }
   ],
   "source": [
    "def qualificar(nota):\n",
    "    if nota >= 9 and nota <= 10:\n",
    "        qualificacio = \"Excel·lent\"\n",
    "    elif nota >= 7 and nota < 9:\n",
    "        qualificacio = \"Notable\"\n",
    "    elif nota >= 5 and nota < 7:\n",
    "        qualificacio = \"Aprovat\"\n",
    "    elif nota < 5 and nota >= 0:\n",
    "        qualificacio = \"Suspès\"\n",
    "    else:\n",
    "        raise Exception(\"Si us plau, introdueix una nota vàlida (0-10)\")\n",
    "    \n",
    "    return qualificacio\n",
    "\n",
    "nota = 9.27\n",
    "qualificar(nota)"
   ]
  },
  {
   "cell_type": "markdown",
   "id": "976e3900",
   "metadata": {},
   "source": [
    "## Exercici 2\n",
    "Utilitzant el següent tutorial Programiz: Python Input, Output and Import crea un programa que et pregunti dos números. T’ha de mostrar un missatge dient si el primer és més gran, el segon és més gran o són iguals."
   ]
  },
  {
   "cell_type": "code",
   "execution_count": 33,
   "id": "f5a69920",
   "metadata": {},
   "outputs": [
    {
     "name": "stdout",
     "output_type": "stream",
     "text": [
      "Introdueix un número: 3\n",
      "Introdueix un número: 3\n",
      "Els dos números son iguals\n"
     ]
    }
   ],
   "source": [
    "num_1 = input(\"Introdueix un número: \")\n",
    "num_2 = input(\"Introdueix un altre número: \") \n",
    "\n",
    "if num_1 > num_2:\n",
    "    print(\"El primer número que has introduït és més gran\")\n",
    "elif num_1 < num_2:\n",
    "    print(\"El segon número que has introduït és més gran\")\n",
    "else:\n",
    "    print(\"Els dos números són iguals\")"
   ]
  },
  {
   "cell_type": "markdown",
   "id": "a97028c1",
   "metadata": {},
   "source": [
    "## Exercici 3\n",
    "Crea un programa que et pregunti el teu nom, i et demani un número. Si el número és 0, hauria de mostrar un missatge d’error. En cas contrari, hauria de mostrar el nom repetit tants cops com indiqui el número. Per exemple, “Joan Joan Joan”."
   ]
  },
  {
   "cell_type": "code",
   "execution_count": 39,
   "id": "18e0f3c8",
   "metadata": {},
   "outputs": [
    {
     "name": "stdout",
     "output_type": "stream",
     "text": [
      "Com et dius? Clara\n",
      "Introdueix un número: 4\n",
      "Clara\n",
      "Clara\n",
      "Clara\n",
      "Clara\n"
     ]
    }
   ],
   "source": [
    "nom = input(\"Com et dius? \")\n",
    "numero = input(\"Introdueix un número: \")\n",
    "\n",
    "if numero == 0:\n",
    "    raise Exception(\"ERROR\")\n",
    "else:\n",
    "    for i in range(int(numero)):\n",
    "        print(nom)"
   ]
  },
  {
   "cell_type": "markdown",
   "id": "86f7ab64",
   "metadata": {},
   "source": [
    "## Exercici 4\n",
    "Crea un programa que donada una llista qualsevol, et digui si es simètrica o no. Si ho és, que et digui quants elements té."
   ]
  },
  {
   "cell_type": "code",
   "execution_count": 78,
   "id": "4ee73c57",
   "metadata": {},
   "outputs": [
    {
     "name": "stdout",
     "output_type": "stream",
     "text": [
      "Aquesta llista no és simètrica\n",
      "Aquesta llista és simètrica i té 3 elements\n"
     ]
    },
    {
     "data": {
      "text/plain": [
       "True"
      ]
     },
     "execution_count": 78,
     "metadata": {},
     "output_type": "execute_result"
    }
   ],
   "source": [
    "def esSimetrica(llista):\n",
    "    llista_invertida = llista.copy()\n",
    "    llista_invertida.reverse()\n",
    "    esSimetrica = False\n",
    "    if llista == llista_invertida:\n",
    "        esSimetrica = True\n",
    "        print(\"Aquesta llista és simètrica i té \" + str(len(llista)) + \" elements\")\n",
    "    else:\n",
    "        print(\"Aquesta llista no és simètrica\")\n",
    "    return esSimetrica\n",
    "\n",
    "llista = [1, 4, 68, 35, 5, 7, 99, 345]\n",
    "esSimetrica(llista)\n",
    "llista = [1, 2, 1]\n",
    "esSimetrica(llista)"
   ]
  },
  {
   "cell_type": "markdown",
   "id": "8519eedd",
   "metadata": {},
   "source": [
    "## Exercici 5\n",
    "Crea un programa que donada una llista, et digui quants números coincideixen amb la seva posició. Per exemple [3,4,2,0,2,3,6] el 2 i el 6 coincideixen."
   ]
  },
  {
   "cell_type": "code",
   "execution_count": 79,
   "id": "cff88930",
   "metadata": {},
   "outputs": [
    {
     "name": "stdout",
     "output_type": "stream",
     "text": [
      "En aquesta llista 2 números coincideixen amb la seva posició\n"
     ]
    },
    {
     "data": {
      "text/plain": [
       "2"
      ]
     },
     "execution_count": 79,
     "metadata": {},
     "output_type": "execute_result"
    }
   ],
   "source": [
    "def numsCoincidents(llista):\n",
    "    nums_coincidents = 0\n",
    "\n",
    "    for i in range(len(llista)):\n",
    "        if i == llista[i]:\n",
    "            nums_coincidents += 1\n",
    "\n",
    "    print(\"En aquesta llista \" + str(nums_coincidents) + \" números coincideixen amb la seva posició\")\n",
    "    return nums_coincidents\n",
    "\n",
    "llista = [3,4,2,0,2,3,6] \n",
    "numsCoincidents(llista)"
   ]
  },
  {
   "cell_type": "code",
   "execution_count": null,
   "id": "cfbbec4c",
   "metadata": {},
   "outputs": [],
   "source": []
  }
 ],
 "metadata": {
  "kernelspec": {
   "display_name": "Python 3 (ipykernel)",
   "language": "python",
   "name": "python3"
  },
  "language_info": {
   "codemirror_mode": {
    "name": "ipython",
    "version": 3
   },
   "file_extension": ".py",
   "mimetype": "text/x-python",
   "name": "python",
   "nbconvert_exporter": "python",
   "pygments_lexer": "ipython3",
   "version": "3.9.7"
  }
 },
 "nbformat": 4,
 "nbformat_minor": 5
}
